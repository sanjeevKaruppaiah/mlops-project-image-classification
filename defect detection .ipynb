{
  "cells": [
    {
      "cell_type": "markdown",
      "metadata": {
        "id": "view-in-github",
        "colab_type": "text"
      },
      "source": [
        "<a href=\"https://colab.research.google.com/github/sanjeevKaruppaiah/mlops-project-image-classification/blob/main/defect%20detection%20.ipynb\" target=\"_parent\"><img src=\"https://colab.research.google.com/assets/colab-badge.svg\" alt=\"Open In Colab\"/></a>"
      ]
    },
    {
      "cell_type": "markdown",
      "metadata": {
        "id": "nLiCWXTs5-7M"
      },
      "source": [
        "# **Anamoly defect detection**\n"
      ]
    },
    {
      "cell_type": "code",
      "execution_count": 4,
      "metadata": {
        "id": "bFoZ2uSkRyIr"
      },
      "outputs": [],
      "source": [
        "import cv2\n",
        "import os\n",
        "import tensorflow as tf\n",
        "import matplotlib.pyplot as plt\n",
        "import pandas as pd\n",
        "import numpy as np\n",
        "from google.colab.patches import cv2_imshow\n",
        "from PIL import Image"
      ]
    },
    {
      "cell_type": "markdown",
      "source": [],
      "metadata": {
        "id": "yV8QLaOcGVYo"
      }
    },
    {
      "cell_type": "code",
      "execution_count": 6,
      "metadata": {
        "colab": {
          "base_uri": "https://localhost:8080/"
        },
        "id": "KTUJ5w61RyLH",
        "outputId": "e1c980a7-08d5-4ce1-d146-69452a145f14"
      },
      "outputs": [
        {
          "output_type": "execute_result",
          "data": {
            "text/plain": [
              "<function posix.listdir(path=None)>"
            ]
          },
          "metadata": {},
          "execution_count": 6
        }
      ],
      "source": [
        "os.getcwd\n",
        "os.listdir"
      ]
    },
    {
      "cell_type": "code",
      "source": [
        "import kagglehub\n",
        "\n",
        "# Download latest version\n",
        "path = kagglehub.dataset_download(\"nexuswho/fabric-defects-dataset\")\n",
        "\n",
        "print(\"Path to dataset files:\", path)"
      ],
      "metadata": {
        "id": "TDRzf6x6kbYY",
        "colab": {
          "base_uri": "https://localhost:8080/"
        },
        "outputId": "b2e16670-2287-479e-9e26-17907eb68a15"
      },
      "execution_count": 5,
      "outputs": [
        {
          "output_type": "stream",
          "name": "stdout",
          "text": [
            "Downloading from https://www.kaggle.com/api/v1/datasets/download/nexuswho/fabric-defects-dataset?dataset_version_number=1...\n"
          ]
        },
        {
          "output_type": "stream",
          "name": "stderr",
          "text": [
            "100%|██████████| 2.09G/2.09G [00:18<00:00, 121MB/s]\n"
          ]
        },
        {
          "output_type": "stream",
          "name": "stdout",
          "text": [
            "Extracting files...\n",
            "Path to dataset files: /root/.cache/kagglehub/datasets/nexuswho/fabric-defects-dataset/versions/1\n"
          ]
        }
      ]
    },
    {
      "cell_type": "code",
      "metadata": {
        "colab": {
          "base_uri": "https://localhost:8080/"
        },
        "id": "250df223",
        "outputId": "66e87969-640f-4121-e9d8-8a76c409b8c7"
      },
      "source": [
        "import os\n",
        "\n",
        "# List the contents of the dataset directory\n",
        "dataset_contents = os.listdir(path)\n",
        "print(\"Contents of the dataset directory:\")\n",
        "for item in dataset_contents:\n",
        "    print(item)\n",
        "\n",
        "# Identify subdirectories (defect types)\n",
        "defect_types = [item for item in dataset_contents if os.path.isdir(os.path.join(path, item))]\n",
        "print(\"\\nIdentified defect types (subdirectories):\")\n",
        "for defect_type in defect_types:\n",
        "    print(defect_type)"
      ],
      "execution_count": 7,
      "outputs": [
        {
          "output_type": "stream",
          "name": "stdout",
          "text": [
            "Contents of the dataset directory:\n",
            "Fabric Defects Dataset\n",
            "\n",
            "Identified defect types (subdirectories):\n",
            "Fabric Defects Dataset\n"
          ]
        }
      ]
    },
    {
      "cell_type": "markdown",
      "metadata": {
        "id": "264b3cc8"
      },
      "source": [
        "**Reasoning**:\n",
        "Based on the previous output, the dataset seems to be within a single subdirectory named \"Fabric Defects Dataset\". I need to list the contents of this subdirectory to find the actual defect type folders.\n",
        "\n"
      ]
    },
    {
      "cell_type": "code",
      "metadata": {
        "colab": {
          "base_uri": "https://localhost:8080/"
        },
        "id": "84dd4458",
        "outputId": "18847164-bc64-429e-8b07-4c6e92dfd80e"
      },
      "source": [
        "# List the contents of the 'Fabric Defects Dataset' subdirectory\n",
        "dataset_subdir_path = os.path.join(path, \"Fabric Defects Dataset\")\n",
        "subdir_contents = os.listdir(dataset_subdir_path)\n",
        "print(f\"Contents of the '{dataset_subdir_path}' directory:\")\n",
        "for item in subdir_contents:\n",
        "    print(item)\n",
        "\n",
        "# Identify the actual defect types (subdirectories) within this subdirectory\n",
        "actual_defect_types = [item for item in subdir_contents if os.path.isdir(os.path.join(dataset_subdir_path, item))]\n",
        "print(\"\\nIdentified actual defect types (subdirectories):\")\n",
        "for defect_type in actual_defect_types:\n",
        "    print(defect_type)"
      ],
      "execution_count": 8,
      "outputs": [
        {
          "output_type": "stream",
          "name": "stdout",
          "text": [
            "Contents of the '/root/.cache/kagglehub/datasets/nexuswho/fabric-defects-dataset/versions/1/Fabric Defects Dataset' directory:\n",
            "Fabric Defect Dataset\n",
            "\n",
            "Identified actual defect types (subdirectories):\n",
            "Fabric Defect Dataset\n"
          ]
        }
      ]
    },
    {
      "cell_type": "code",
      "metadata": {
        "colab": {
          "base_uri": "https://localhost:8080/"
        },
        "id": "4554071f",
        "outputId": "c9cfbc9d-5a77-4f38-f062-fede4a27b4ac"
      },
      "source": [
        "# List the contents of the 'Fabric Defect Dataset' subdirectory\n",
        "actual_dataset_path = os.path.join(dataset_subdir_path, \"Fabric Defect Dataset\")\n",
        "final_subdir_contents = os.listdir(actual_dataset_path)\n",
        "print(f\"Contents of the '{actual_dataset_path}' directory:\")\n",
        "for item in final_subdir_contents:\n",
        "    print(item)\n",
        "\n",
        "# Identify the final subdirectories (defect types) within this subdirectory\n",
        "final_defect_types = [item for item in final_subdir_contents if os.path.isdir(os.path.join(actual_dataset_path, item))]\n",
        "print(\"\\nIdentified final defect types (subdirectories):\")\n",
        "for defect_type in final_defect_types:\n",
        "    print(defect_type)"
      ],
      "execution_count": 9,
      "outputs": [
        {
          "output_type": "stream",
          "name": "stdout",
          "text": [
            "Contents of the '/root/.cache/kagglehub/datasets/nexuswho/fabric-defects-dataset/versions/1/Fabric Defects Dataset/Fabric Defect Dataset' directory:\n",
            "defect free\n",
            "Vertical\n",
            "stain\n",
            "lines\n",
            "horizontal\n",
            "hole\n",
            "\n",
            "Identified final defect types (subdirectories):\n",
            "defect free\n",
            "Vertical\n",
            "stain\n",
            "lines\n",
            "horizontal\n",
            "hole\n"
          ]
        }
      ]
    },
    {
      "cell_type": "code",
      "metadata": {
        "colab": {
          "base_uri": "https://localhost:8080/"
        },
        "id": "aa9cc149",
        "outputId": "384d06f9-f136-4be8-fb9f-7f5b38e3fe58"
      },
      "source": [
        "# Define the base path to the dataset\n",
        "base_path = os.path.join(path, \"Fabric Defects Dataset\", \"Fabric Defect Dataset\")\n",
        "\n",
        "# Create an empty dictionary to store the counts for each category\n",
        "defect_counts = {}\n",
        "\n",
        "# Iterate through the final defect type directories and count images\n",
        "for defect_type in final_defect_types:\n",
        "    defect_type_path = os.path.join(base_path, defect_type)\n",
        "    # List contents and count files (assuming all files are images)\n",
        "    image_count = len([f for f in os.listdir(defect_type_path) if os.path.isfile(os.path.join(defect_type_path, f))])\n",
        "    defect_counts[defect_type] = image_count\n",
        "\n",
        "# Print the counts for each category\n",
        "print(\"Image counts per defect category:\")\n",
        "for defect_type, count in defect_counts.items():\n",
        "    print(f\"{defect_type}: {count}\")"
      ],
      "execution_count": 10,
      "outputs": [
        {
          "output_type": "stream",
          "name": "stdout",
          "text": [
            "Image counts per defect category:\n",
            "defect free: 1666\n",
            "Vertical: 101\n",
            "stain: 398\n",
            "lines: 157\n",
            "horizontal: 136\n",
            "hole: 281\n"
          ]
        }
      ]
    },
    {
      "cell_type": "markdown",
      "source": [],
      "metadata": {
        "id": "ulPbQcPfLWTK"
      }
    },
    {
      "cell_type": "markdown",
      "metadata": {
        "id": "3bba1965"
      },
      "source": [
        "## Create pie chart\n",
        "\n"
      ]
    },
    {
      "cell_type": "code",
      "metadata": {
        "colab": {
          "base_uri": "https://localhost:8080/",
          "height": 289
        },
        "id": "2bfdc3e3",
        "outputId": "4eccc5a8-582c-4f4a-ed51-da553c0b49ef"
      },
      "source": [
        "labels = list(defect_counts.keys())\n",
        "sizes = list(defect_counts.values())\n",
        "\n",
        "plt.figure(figsize=(10, 8))\n",
        "plt.pie(sizes, labels=labels, autopct='%1.1f%%', startangle=140)\n",
        "plt.title('Distribution of Images by Defect Type')\n",
        "plt.axis('equal')  # Equal aspect ratio ensures that pie is drawn as a circle.\n",
        "plt.show()"
      ],
      "execution_count": 11,
      "outputs": [
        {
          "output_type": "display_data",
          "data": {
            "text/plain": [
              "<Figure size 1000x800 with 1 Axes>"
            ],
            "image/png": "[encoded data removed]"
          },
          "metadata": {}
        }
      ]
    },
    {
      "cell_type": "code",
      "metadata": {
        "colab": {
          "base_uri": "https://localhost:8080/"
        },
        "id": "cd66f6f6",
        "outputId": "2f404966-7eb6-43ae-fb18-65316bdecf0b"
      },
      "source": [
        "# Define the base path to the dataset\n",
        "import os\n",
        "\n",
        "# Path to your main dataset folder\n",
        "dataset_path = actual_dataset_path  # or you can put your path as a string\n",
        "\n",
        "# Loop through all folders and subfolders\n",
        "for root, dirs, files in os.walk(dataset_path):\n",
        "    print(f\"\\n📁 Directory: {root}\")\n",
        "\n",
        "    # Filter only image files (optional but helpful)\n",
        "    image_files = [f for f in files if f.lower().endswith(('.png', '.jpg', '.jpeg', '.bmp', '.gif'))]\n",
        "\n",
        "    # Take only the first 10 images\n",
        "    sample_images = image_files[:10]\n",
        "\n",
        "    # Print their full paths\n",
        "    for file in sample_images:\n",
        "        print(os.path.join(root, file))\n"
      ],
      "execution_count": 15,
      "outputs": [
        {
          "output_type": "stream",
          "name": "stdout",
          "text": [
            "\n",
            "📁 Directory: /root/.cache/kagglehub/datasets/nexuswho/fabric-defects-dataset/versions/1/Fabric Defects Dataset/Fabric Defect Dataset\n",
            "\n",
            "📁 Directory: /root/.cache/kagglehub/datasets/nexuswho/fabric-defects-dataset/versions/1/Fabric Defects Dataset/Fabric Defect Dataset/defect free\n",
            "/root/.cache/kagglehub/datasets/nexuswho/fabric-defects-dataset/versions/1/Fabric Defects Dataset/Fabric Defect Dataset/defect free/fbf05761b7a1f9e60818283105.jpg\n",
            "/root/.cache/kagglehub/datasets/nexuswho/fabric-defects-dataset/versions/1/Fabric Defects Dataset/Fabric Defect Dataset/defect free/23a6e743b19b343a0904123962.jpg\n",
            "/root/.cache/kagglehub/datasets/nexuswho/fabric-defects-dataset/versions/1/Fabric Defects Dataset/Fabric Defect Dataset/defect free/46b5608ddcfe974a0831390813.jpg\n",
            "/root/.cache/kagglehub/datasets/nexuswho/fabric-defects-dataset/versions/1/Fabric Defects Dataset/Fabric Defect Dataset/defect free/477b972ccfb034b71553208831.jpg\n",
            "/root/.cache/kagglehub/datasets/nexuswho/fabric-defects-dataset/versions/1/Fabric Defects Dataset/Fabric Defect Dataset/defect free/7c8afd1fb31db4de0823184191.jpg\n",
            "/root/.cache/kagglehub/datasets/nexuswho/fabric-defects-dataset/versions/1/Fabric Defects Dataset/Fabric Defect Dataset/defect free/1085a9e7b148381e1041192214.jpg\n",
            "/root/.cache/kagglehub/datasets/nexuswho/fabric-defects-dataset/versions/1/Fabric Defects Dataset/Fabric Defect Dataset/defect free/aacc701dbf97bf971551184253.jpg\n",
            "/root/.cache/kagglehub/datasets/nexuswho/fabric-defects-dataset/versions/1/Fabric Defects Dataset/Fabric Defect Dataset/defect free/0013_000_06.png\n",
            "/root/.cache/kagglehub/datasets/nexuswho/fabric-defects-dataset/versions/1/Fabric Defects Dataset/Fabric Defect Dataset/defect free/a906f55bf6fef0b60851013225.jpg\n",
            "/root/.cache/kagglehub/datasets/nexuswho/fabric-defects-dataset/versions/1/Fabric Defects Dataset/Fabric Defect Dataset/defect free/fce35c3f176157341056569824.jpg\n",
            "\n",
            "📁 Directory: /root/.cache/kagglehub/datasets/nexuswho/fabric-defects-dataset/versions/1/Fabric Defects Dataset/Fabric Defect Dataset/Vertical\n",
            "/root/.cache/kagglehub/datasets/nexuswho/fabric-defects-dataset/versions/1/Fabric Defects Dataset/Fabric Defect Dataset/Vertical/12.jpg\n",
            "/root/.cache/kagglehub/datasets/nexuswho/fabric-defects-dataset/versions/1/Fabric Defects Dataset/Fabric Defect Dataset/Vertical/17.jpg\n",
            "/root/.cache/kagglehub/datasets/nexuswho/fabric-defects-dataset/versions/1/Fabric Defects Dataset/Fabric Defect Dataset/Vertical/2_processed(1).jpg\n",
            "/root/.cache/kagglehub/datasets/nexuswho/fabric-defects-dataset/versions/1/Fabric Defects Dataset/Fabric Defect Dataset/Vertical/13_processed (3).jpg\n",
            "/root/.cache/kagglehub/datasets/nexuswho/fabric-defects-dataset/versions/1/Fabric Defects Dataset/Fabric Defect Dataset/Vertical/3_processed(2).jpg\n",
            "/root/.cache/kagglehub/datasets/nexuswho/fabric-defects-dataset/versions/1/Fabric Defects Dataset/Fabric Defect Dataset/Vertical/19_processed (2).jpg\n",
            "/root/.cache/kagglehub/datasets/nexuswho/fabric-defects-dataset/versions/1/Fabric Defects Dataset/Fabric Defect Dataset/Vertical/23.jpg\n",
            "/root/.cache/kagglehub/datasets/nexuswho/fabric-defects-dataset/versions/1/Fabric Defects Dataset/Fabric Defect Dataset/Vertical/13.jpg\n",
            "/root/.cache/kagglehub/datasets/nexuswho/fabric-defects-dataset/versions/1/Fabric Defects Dataset/Fabric Defect Dataset/Vertical/14_processed (1).jpg\n",
            "/root/.cache/kagglehub/datasets/nexuswho/fabric-defects-dataset/versions/1/Fabric Defects Dataset/Fabric Defect Dataset/Vertical/1_processed(1).jpg\n",
            "\n",
            "📁 Directory: /root/.cache/kagglehub/datasets/nexuswho/fabric-defects-dataset/versions/1/Fabric Defects Dataset/Fabric Defect Dataset/stain\n",
            "/root/.cache/kagglehub/datasets/nexuswho/fabric-defects-dataset/versions/1/Fabric Defects Dataset/Fabric Defect Dataset/stain/148.jpg\n",
            "/root/.cache/kagglehub/datasets/nexuswho/fabric-defects-dataset/versions/1/Fabric Defects Dataset/Fabric Defect Dataset/stain/78.jpg\n",
            "/root/.cache/kagglehub/datasets/nexuswho/fabric-defects-dataset/versions/1/Fabric Defects Dataset/Fabric Defect Dataset/stain/128.jpg\n",
            "/root/.cache/kagglehub/datasets/nexuswho/fabric-defects-dataset/versions/1/Fabric Defects Dataset/Fabric Defect Dataset/stain/12.jpg\n",
            "/root/.cache/kagglehub/datasets/nexuswho/fabric-defects-dataset/versions/1/Fabric Defects Dataset/Fabric Defect Dataset/stain/17.jpg\n",
            "/root/.cache/kagglehub/datasets/nexuswho/fabric-defects-dataset/versions/1/Fabric Defects Dataset/Fabric Defect Dataset/stain/259.jpg\n",
            "/root/.cache/kagglehub/datasets/nexuswho/fabric-defects-dataset/versions/1/Fabric Defects Dataset/Fabric Defect Dataset/stain/199.jpg\n",
            "/root/.cache/kagglehub/datasets/nexuswho/fabric-defects-dataset/versions/1/Fabric Defects Dataset/Fabric Defect Dataset/stain/123.jpg\n",
            "/root/.cache/kagglehub/datasets/nexuswho/fabric-defects-dataset/versions/1/Fabric Defects Dataset/Fabric Defect Dataset/stain/77.jpg\n",
            "/root/.cache/kagglehub/datasets/nexuswho/fabric-defects-dataset/versions/1/Fabric Defects Dataset/Fabric Defect Dataset/stain/379.jpg\n",
            "\n",
            "📁 Directory: /root/.cache/kagglehub/datasets/nexuswho/fabric-defects-dataset/versions/1/Fabric Defects Dataset/Fabric Defect Dataset/lines\n",
            "/root/.cache/kagglehub/datasets/nexuswho/fabric-defects-dataset/versions/1/Fabric Defects Dataset/Fabric Defect Dataset/lines/line_2018-10-10 11_36_11.154255.jpg\n",
            "/root/.cache/kagglehub/datasets/nexuswho/fabric-defects-dataset/versions/1/Fabric Defects Dataset/Fabric Defect Dataset/lines/line_2018-10-10 10_49_24.348542.jpg\n",
            "/root/.cache/kagglehub/datasets/nexuswho/fabric-defects-dataset/versions/1/Fabric Defects Dataset/Fabric Defect Dataset/lines/line_2018-10-10 10_30_25.985902(1).jpg\n",
            "/root/.cache/kagglehub/datasets/nexuswho/fabric-defects-dataset/versions/1/Fabric Defects Dataset/Fabric Defect Dataset/lines/line_2018-10-10 10_21_09.306287.jpg\n",
            "/root/.cache/kagglehub/datasets/nexuswho/fabric-defects-dataset/versions/1/Fabric Defects Dataset/Fabric Defect Dataset/lines/line_2018-10-10 11_03_08.255934.jpg\n",
            "/root/.cache/kagglehub/datasets/nexuswho/fabric-defects-dataset/versions/1/Fabric Defects Dataset/Fabric Defect Dataset/lines/line_2018-10-10 11_28_45.435211.jpg\n",
            "/root/.cache/kagglehub/datasets/nexuswho/fabric-defects-dataset/versions/1/Fabric Defects Dataset/Fabric Defect Dataset/lines/line_2018-10-10 11_29_32.499997.jpg\n",
            "/root/.cache/kagglehub/datasets/nexuswho/fabric-defects-dataset/versions/1/Fabric Defects Dataset/Fabric Defect Dataset/lines/line_2018-10-10 11_32_18.094130.jpg\n",
            "/root/.cache/kagglehub/datasets/nexuswho/fabric-defects-dataset/versions/1/Fabric Defects Dataset/Fabric Defect Dataset/lines/line_2018-10-10 09_41_49.738887.jpg\n",
            "/root/.cache/kagglehub/datasets/nexuswho/fabric-defects-dataset/versions/1/Fabric Defects Dataset/Fabric Defect Dataset/lines/line_2018-10-10 12_04_14.616832.jpg\n",
            "\n",
            "📁 Directory: /root/.cache/kagglehub/datasets/nexuswho/fabric-defects-dataset/versions/1/Fabric Defects Dataset/Fabric Defect Dataset/horizontal\n",
            "/root/.cache/kagglehub/datasets/nexuswho/fabric-defects-dataset/versions/1/Fabric Defects Dataset/Fabric Defect Dataset/horizontal/3_processed (3).jpg\n",
            "/root/.cache/kagglehub/datasets/nexuswho/fabric-defects-dataset/versions/1/Fabric Defects Dataset/Fabric Defect Dataset/horizontal/25_processed (1).jpg\n",
            "/root/.cache/kagglehub/datasets/nexuswho/fabric-defects-dataset/versions/1/Fabric Defects Dataset/Fabric Defect Dataset/horizontal/12.jpg\n",
            "/root/.cache/kagglehub/datasets/nexuswho/fabric-defects-dataset/versions/1/Fabric Defects Dataset/Fabric Defect Dataset/horizontal/17.jpg\n",
            "/root/.cache/kagglehub/datasets/nexuswho/fabric-defects-dataset/versions/1/Fabric Defects Dataset/Fabric Defect Dataset/horizontal/14_processed(3).jpg\n",
            "/root/.cache/kagglehub/datasets/nexuswho/fabric-defects-dataset/versions/1/Fabric Defects Dataset/Fabric Defect Dataset/horizontal/13_processed (3).jpg\n",
            "/root/.cache/kagglehub/datasets/nexuswho/fabric-defects-dataset/versions/1/Fabric Defects Dataset/Fabric Defect Dataset/horizontal/1_processed (1).jpg\n",
            "/root/.cache/kagglehub/datasets/nexuswho/fabric-defects-dataset/versions/1/Fabric Defects Dataset/Fabric Defect Dataset/horizontal/19_processed (2).jpg\n",
            "/root/.cache/kagglehub/datasets/nexuswho/fabric-defects-dataset/versions/1/Fabric Defects Dataset/Fabric Defect Dataset/horizontal/33_processed (1).jpg\n",
            "/root/.cache/kagglehub/datasets/nexuswho/fabric-defects-dataset/versions/1/Fabric Defects Dataset/Fabric Defect Dataset/horizontal/32.jpg\n",
            "\n",
            "📁 Directory: /root/.cache/kagglehub/datasets/nexuswho/fabric-defects-dataset/versions/1/Fabric Defects Dataset/Fabric Defect Dataset/hole\n",
            "/root/.cache/kagglehub/datasets/nexuswho/fabric-defects-dataset/versions/1/Fabric Defects Dataset/Fabric Defect Dataset/hole/3_processed (3).jpg\n",
            "/root/.cache/kagglehub/datasets/nexuswho/fabric-defects-dataset/versions/1/Fabric Defects Dataset/Fabric Defect Dataset/hole/20180531_135129(1).jpg\n",
            "/root/.cache/kagglehub/datasets/nexuswho/fabric-defects-dataset/versions/1/Fabric Defects Dataset/Fabric Defect Dataset/hole/25_processed (1).jpg\n",
            "/root/.cache/kagglehub/datasets/nexuswho/fabric-defects-dataset/versions/1/Fabric Defects Dataset/Fabric Defect Dataset/hole/12.jpg\n",
            "/root/.cache/kagglehub/datasets/nexuswho/fabric-defects-dataset/versions/1/Fabric Defects Dataset/Fabric Defect Dataset/hole/17.jpg\n",
            "/root/.cache/kagglehub/datasets/nexuswho/fabric-defects-dataset/versions/1/Fabric Defects Dataset/Fabric Defect Dataset/hole/line_2018-10-11 12_38_59.079794.jpg\n",
            "/root/.cache/kagglehub/datasets/nexuswho/fabric-defects-dataset/versions/1/Fabric Defects Dataset/Fabric Defect Dataset/hole/hole_2018-10-11 13_58_04.423087.jpg\n",
            "/root/.cache/kagglehub/datasets/nexuswho/fabric-defects-dataset/versions/1/Fabric Defects Dataset/Fabric Defect Dataset/hole/hole_2018-10-11 13_08_30.676740.jpg\n",
            "/root/.cache/kagglehub/datasets/nexuswho/fabric-defects-dataset/versions/1/Fabric Defects Dataset/Fabric Defect Dataset/hole/hole_2018-10-11 14_19_30.093112.jpg\n",
            "/root/.cache/kagglehub/datasets/nexuswho/fabric-defects-dataset/versions/1/Fabric Defects Dataset/Fabric Defect Dataset/hole/hole_2018-10-11 13_25_54.995114.jpg\n"
          ]
        }
      ]
    },
    {
      "cell_type": "code",
      "source": [
        "sample_image_path = \"/root/.cache/kagglehub/datasets/nexuswho/fabric-defects-dataset/versions/1/Fabric Defects Dataset/Fabric Defect Dataset/defect free/fbf05761b7a1f9e60818283105.jpg\"\n",
        "img = Image.open(sample_image_path)\n",
        "img.show()\n",
        "print(img.size)"
      ],
      "metadata": {
        "id": "IlxYCwl2UO9h",
        "colab": {
          "base_uri": "https://localhost:8080/"
        },
        "outputId": "8d1ffef6-1a1a-48f1-897e-8a172118dd3b"
      },
      "execution_count": 18,
      "outputs": [
        {
          "output_type": "stream",
          "name": "stdout",
          "text": [
            "(2446, 1000)\n"
          ]
        }
      ]
    },
    {
      "cell_type": "code",
      "source": [
        "from torchvision.transforms import transforms\n",
        "\n",
        "transform = transforms.Compose([\n",
        "    transforms.Resize((224,224)),\n",
        "    transforms.ToTensor()\n",
        "])\n",
        "\n",
        "    #assuming \"image\"is a PIL image object\n",
        "    #apply the defined transformation pipeline to the image\n",
        "img=transform(img)\n",
        "print(img.shape)"
      ],
      "metadata": {
        "id": "p0Q5l7FkUO_f",
        "colab": {
          "base_uri": "https://localhost:8080/",
          "height": 546
        },
        "outputId": "135e00b8-8628-4e8b-f539-c6533c1dfd9b"
      },
      "execution_count": 33,
      "outputs": [
        {
          "output_type": "error",
          "ename": "ValueError",
          "evalue": "Operation on closed image",
          "traceback": [
            "\u001b[0;31m---------------------------------------------------------------------------\u001b[0m",
            "\u001b[0;31mValueError\u001b[0m                                Traceback (most recent call last)",
            "\u001b[0;32m/tmp/ipython-input-1629013851.py\u001b[0m in \u001b[0;36m<cell line: 0>\u001b[0;34m()\u001b[0m\n\u001b[1;32m      8\u001b[0m     \u001b[0;31m#assuming \"image\"is a PIL image object\u001b[0m\u001b[0;34m\u001b[0m\u001b[0;34m\u001b[0m\u001b[0m\n\u001b[1;32m      9\u001b[0m     \u001b[0;31m#apply the defined transformation pipeline to the image\u001b[0m\u001b[0;34m\u001b[0m\u001b[0;34m\u001b[0m\u001b[0m\n\u001b[0;32m---> 10\u001b[0;31m \u001b[0mimg\u001b[0m\u001b[0;34m=\u001b[0m\u001b[0mtransform\u001b[0m\u001b[0;34m(\u001b[0m\u001b[0mimg\u001b[0m\u001b[0;34m)\u001b[0m\u001b[0;34m\u001b[0m\u001b[0;34m\u001b[0m\u001b[0m\n\u001b[0m\u001b[1;32m     11\u001b[0m \u001b[0mprint\u001b[0m\u001b[0;34m(\u001b[0m\u001b[0mimg\u001b[0m\u001b[0;34m.\u001b[0m\u001b[0mshape\u001b[0m\u001b[0;34m)\u001b[0m\u001b[0;34m\u001b[0m\u001b[0;34m\u001b[0m\u001b[0m\n",
            "\u001b[0;32m/usr/local/lib/python3.12/dist-packages/torchvision/transforms/transforms.py\u001b[0m in \u001b[0;36m__call__\u001b[0;34m(self, img)\u001b[0m\n\u001b[1;32m     93\u001b[0m     \u001b[0;32mdef\u001b[0m \u001b[0m__call__\u001b[0m\u001b[0;34m(\u001b[0m\u001b[0mself\u001b[0m\u001b[0;34m,\u001b[0m \u001b[0mimg\u001b[0m\u001b[0;34m)\u001b[0m\u001b[0;34m:\u001b[0m\u001b[0;34m\u001b[0m\u001b[0;34m\u001b[0m\u001b[0m\n\u001b[1;32m     94\u001b[0m         \u001b[0;32mfor\u001b[0m \u001b[0mt\u001b[0m \u001b[0;32min\u001b[0m \u001b[0mself\u001b[0m\u001b[0;34m.\u001b[0m\u001b[0mtransforms\u001b[0m\u001b[0;34m:\u001b[0m\u001b[0;34m\u001b[0m\u001b[0;34m\u001b[0m\u001b[0m\n\u001b[0;32m---> 95\u001b[0;31m             \u001b[0mimg\u001b[0m \u001b[0;34m=\u001b[0m \u001b[0mt\u001b[0m\u001b[0;34m(\u001b[0m\u001b[0mimg\u001b[0m\u001b[0;34m)\u001b[0m\u001b[0;34m\u001b[0m\u001b[0;34m\u001b[0m\u001b[0m\n\u001b[0m\u001b[1;32m     96\u001b[0m         \u001b[0;32mreturn\u001b[0m \u001b[0mimg\u001b[0m\u001b[0;34m\u001b[0m\u001b[0;34m\u001b[0m\u001b[0m\n\u001b[1;32m     97\u001b[0m \u001b[0;34m\u001b[0m\u001b[0m\n",
            "\u001b[0;32m/usr/local/lib/python3.12/dist-packages/torch/nn/modules/module.py\u001b[0m in \u001b[0;36m_wrapped_call_impl\u001b[0;34m(self, *args, **kwargs)\u001b[0m\n\u001b[1;32m   1771\u001b[0m             \u001b[0;32mreturn\u001b[0m \u001b[0mself\u001b[0m\u001b[0;34m.\u001b[0m\u001b[0m_compiled_call_impl\u001b[0m\u001b[0;34m(\u001b[0m\u001b[0;34m*\u001b[0m\u001b[0margs\u001b[0m\u001b[0;34m,\u001b[0m \u001b[0;34m**\u001b[0m\u001b[0mkwargs\u001b[0m\u001b[0;34m)\u001b[0m  \u001b[0;31m# type: ignore[misc]\u001b[0m\u001b[0;34m\u001b[0m\u001b[0;34m\u001b[0m\u001b[0m\n\u001b[1;32m   1772\u001b[0m         \u001b[0;32melse\u001b[0m\u001b[0;34m:\u001b[0m\u001b[0;34m\u001b[0m\u001b[0;34m\u001b[0m\u001b[0m\n\u001b[0;32m-> 1773\u001b[0;31m             \u001b[0;32mreturn\u001b[0m \u001b[0mself\u001b[0m\u001b[0;34m.\u001b[0m\u001b[0m_call_impl\u001b[0m\u001b[0;34m(\u001b[0m\u001b[0;34m*\u001b[0m\u001b[0margs\u001b[0m\u001b[0;34m,\u001b[0m \u001b[0;34m**\u001b[0m\u001b[0mkwargs\u001b[0m\u001b[0;34m)\u001b[0m\u001b[0;34m\u001b[0m\u001b[0;34m\u001b[0m\u001b[0m\n\u001b[0m\u001b[1;32m   1774\u001b[0m \u001b[0;34m\u001b[0m\u001b[0m\n\u001b[1;32m   1775\u001b[0m     \u001b[0;31m# torchrec tests the code consistency with the following code\u001b[0m\u001b[0;34m\u001b[0m\u001b[0;34m\u001b[0m\u001b[0m\n",
            "\u001b[0;32m/usr/local/lib/python3.12/dist-packages/torch/nn/modules/module.py\u001b[0m in \u001b[0;36m_call_impl\u001b[0;34m(self, *args, **kwargs)\u001b[0m\n\u001b[1;32m   1782\u001b[0m                 \u001b[0;32mor\u001b[0m \u001b[0m_global_backward_pre_hooks\u001b[0m \u001b[0;32mor\u001b[0m \u001b[0m_global_backward_hooks\u001b[0m\u001b[0;34m\u001b[0m\u001b[0;34m\u001b[0m\u001b[0m\n\u001b[1;32m   1783\u001b[0m                 or _global_forward_hooks or _global_forward_pre_hooks):\n\u001b[0;32m-> 1784\u001b[0;31m             \u001b[0;32mreturn\u001b[0m \u001b[0mforward_call\u001b[0m\u001b[0;34m(\u001b[0m\u001b[0;34m*\u001b[0m\u001b[0margs\u001b[0m\u001b[0;34m,\u001b[0m \u001b[0;34m**\u001b[0m\u001b[0mkwargs\u001b[0m\u001b[0;34m)\u001b[0m\u001b[0;34m\u001b[0m\u001b[0;34m\u001b[0m\u001b[0m\n\u001b[0m\u001b[1;32m   1785\u001b[0m \u001b[0;34m\u001b[0m\u001b[0m\n\u001b[1;32m   1786\u001b[0m         \u001b[0mresult\u001b[0m \u001b[0;34m=\u001b[0m \u001b[0;32mNone\u001b[0m\u001b[0;34m\u001b[0m\u001b[0;34m\u001b[0m\u001b[0m\n",
            "\u001b[0;32m/usr/local/lib/python3.12/dist-packages/torchvision/transforms/transforms.py\u001b[0m in \u001b[0;36mforward\u001b[0;34m(self, img)\u001b[0m\n\u001b[1;32m    352\u001b[0m             \u001b[0mPIL\u001b[0m \u001b[0mImage\u001b[0m \u001b[0;32mor\u001b[0m \u001b[0mTensor\u001b[0m\u001b[0;34m:\u001b[0m \u001b[0mRescaled\u001b[0m \u001b[0mimage\u001b[0m\u001b[0;34m.\u001b[0m\u001b[0;34m\u001b[0m\u001b[0;34m\u001b[0m\u001b[0m\n\u001b[1;32m    353\u001b[0m         \"\"\"\n\u001b[0;32m--> 354\u001b[0;31m         \u001b[0;32mreturn\u001b[0m \u001b[0mF\u001b[0m\u001b[0;34m.\u001b[0m\u001b[0mresize\u001b[0m\u001b[0;34m(\u001b[0m\u001b[0mimg\u001b[0m\u001b[0;34m,\u001b[0m \u001b[0mself\u001b[0m\u001b[0;34m.\u001b[0m\u001b[0msize\u001b[0m\u001b[0;34m,\u001b[0m \u001b[0mself\u001b[0m\u001b[0;34m.\u001b[0m\u001b[0minterpolation\u001b[0m\u001b[0;34m,\u001b[0m \u001b[0mself\u001b[0m\u001b[0;34m.\u001b[0m\u001b[0mmax_size\u001b[0m\u001b[0;34m,\u001b[0m \u001b[0mself\u001b[0m\u001b[0;34m.\u001b[0m\u001b[0mantialias\u001b[0m\u001b[0;34m)\u001b[0m\u001b[0;34m\u001b[0m\u001b[0;34m\u001b[0m\u001b[0m\n\u001b[0m\u001b[1;32m    355\u001b[0m \u001b[0;34m\u001b[0m\u001b[0m\n\u001b[1;32m    356\u001b[0m     \u001b[0;32mdef\u001b[0m \u001b[0m__repr__\u001b[0m\u001b[0;34m(\u001b[0m\u001b[0mself\u001b[0m\u001b[0;34m)\u001b[0m \u001b[0;34m->\u001b[0m \u001b[0mstr\u001b[0m\u001b[0;34m:\u001b[0m\u001b[0;34m\u001b[0m\u001b[0;34m\u001b[0m\u001b[0m\n",
            "\u001b[0;32m/usr/local/lib/python3.12/dist-packages/torchvision/transforms/functional.py\u001b[0m in \u001b[0;36mresize\u001b[0;34m(img, size, interpolation, max_size, antialias)\u001b[0m\n\u001b[1;32m    475\u001b[0m             \u001b[0mwarnings\u001b[0m\u001b[0;34m.\u001b[0m\u001b[0mwarn\u001b[0m\u001b[0;34m(\u001b[0m\u001b[0;34m\"Anti-alias option is always applied for PIL Image input. Argument antialias is ignored.\"\u001b[0m\u001b[0;34m)\u001b[0m\u001b[0;34m\u001b[0m\u001b[0;34m\u001b[0m\u001b[0m\n\u001b[1;32m    476\u001b[0m         \u001b[0mpil_interpolation\u001b[0m \u001b[0;34m=\u001b[0m \u001b[0mpil_modes_mapping\u001b[0m\u001b[0;34m[\u001b[0m\u001b[0minterpolation\u001b[0m\u001b[0;34m]\u001b[0m\u001b[0;34m\u001b[0m\u001b[0;34m\u001b[0m\u001b[0m\n\u001b[0;32m--> 477\u001b[0;31m         \u001b[0;32mreturn\u001b[0m \u001b[0mF_pil\u001b[0m\u001b[0;34m.\u001b[0m\u001b[0mresize\u001b[0m\u001b[0;34m(\u001b[0m\u001b[0mimg\u001b[0m\u001b[0;34m,\u001b[0m \u001b[0msize\u001b[0m\u001b[0;34m=\u001b[0m\u001b[0moutput_size\u001b[0m\u001b[0;34m,\u001b[0m \u001b[0minterpolation\u001b[0m\u001b[0;34m=\u001b[0m\u001b[0mpil_interpolation\u001b[0m\u001b[0;34m)\u001b[0m\u001b[0;34m\u001b[0m\u001b[0;34m\u001b[0m\u001b[0m\n\u001b[0m\u001b[1;32m    478\u001b[0m \u001b[0;34m\u001b[0m\u001b[0m\n\u001b[1;32m    479\u001b[0m     \u001b[0;32mreturn\u001b[0m \u001b[0mF_t\u001b[0m\u001b[0;34m.\u001b[0m\u001b[0mresize\u001b[0m\u001b[0;34m(\u001b[0m\u001b[0mimg\u001b[0m\u001b[0;34m,\u001b[0m \u001b[0msize\u001b[0m\u001b[0;34m=\u001b[0m\u001b[0moutput_size\u001b[0m\u001b[0;34m,\u001b[0m \u001b[0minterpolation\u001b[0m\u001b[0;34m=\u001b[0m\u001b[0minterpolation\u001b[0m\u001b[0;34m.\u001b[0m\u001b[0mvalue\u001b[0m\u001b[0;34m,\u001b[0m \u001b[0mantialias\u001b[0m\u001b[0;34m=\u001b[0m\u001b[0mantialias\u001b[0m\u001b[0;34m)\u001b[0m\u001b[0;34m\u001b[0m\u001b[0;34m\u001b[0m\u001b[0m\n",
            "\u001b[0;32m/usr/local/lib/python3.12/dist-packages/torchvision/transforms/_functional_pil.py\u001b[0m in \u001b[0;36mresize\u001b[0;34m(img, size, interpolation)\u001b[0m\n\u001b[1;32m    251\u001b[0m         \u001b[0;32mraise\u001b[0m \u001b[0mTypeError\u001b[0m\u001b[0;34m(\u001b[0m\u001b[0;34mf\"Got inappropriate size arg: {size}\"\u001b[0m\u001b[0;34m)\u001b[0m\u001b[0;34m\u001b[0m\u001b[0;34m\u001b[0m\u001b[0m\n\u001b[1;32m    252\u001b[0m \u001b[0;34m\u001b[0m\u001b[0m\n\u001b[0;32m--> 253\u001b[0;31m     \u001b[0;32mreturn\u001b[0m \u001b[0mimg\u001b[0m\u001b[0;34m.\u001b[0m\u001b[0mresize\u001b[0m\u001b[0;34m(\u001b[0m\u001b[0mtuple\u001b[0m\u001b[0;34m(\u001b[0m\u001b[0msize\u001b[0m\u001b[0;34m[\u001b[0m\u001b[0;34m:\u001b[0m\u001b[0;34m:\u001b[0m\u001b[0;34m-\u001b[0m\u001b[0;36m1\u001b[0m\u001b[0;34m]\u001b[0m\u001b[0;34m)\u001b[0m\u001b[0;34m,\u001b[0m \u001b[0minterpolation\u001b[0m\u001b[0;34m)\u001b[0m\u001b[0;34m\u001b[0m\u001b[0;34m\u001b[0m\u001b[0m\n\u001b[0m\u001b[1;32m    254\u001b[0m \u001b[0;34m\u001b[0m\u001b[0m\n\u001b[1;32m    255\u001b[0m \u001b[0;34m\u001b[0m\u001b[0m\n",
            "\u001b[0;32m/usr/local/lib/python3.12/dist-packages/PIL/Image.py\u001b[0m in \u001b[0;36mresize\u001b[0;34m(self, size, resample, box, reducing_gap)\u001b[0m\n\u001b[1;32m   2299\u001b[0m             \u001b[0;32mreturn\u001b[0m \u001b[0mim\u001b[0m\u001b[0;34m.\u001b[0m\u001b[0mconvert\u001b[0m\u001b[0;34m(\u001b[0m\u001b[0mself\u001b[0m\u001b[0;34m.\u001b[0m\u001b[0mmode\u001b[0m\u001b[0;34m)\u001b[0m\u001b[0;34m\u001b[0m\u001b[0;34m\u001b[0m\u001b[0m\n\u001b[1;32m   2300\u001b[0m \u001b[0;34m\u001b[0m\u001b[0m\n\u001b[0;32m-> 2301\u001b[0;31m         \u001b[0mself\u001b[0m\u001b[0;34m.\u001b[0m\u001b[0mload\u001b[0m\u001b[0;34m(\u001b[0m\u001b[0;34m)\u001b[0m\u001b[0;34m\u001b[0m\u001b[0;34m\u001b[0m\u001b[0m\n\u001b[0m\u001b[1;32m   2302\u001b[0m \u001b[0;34m\u001b[0m\u001b[0m\n\u001b[1;32m   2303\u001b[0m         \u001b[0;32mif\u001b[0m \u001b[0mreducing_gap\u001b[0m \u001b[0;32mis\u001b[0m \u001b[0;32mnot\u001b[0m \u001b[0;32mNone\u001b[0m \u001b[0;32mand\u001b[0m \u001b[0mresample\u001b[0m \u001b[0;34m!=\u001b[0m \u001b[0mResampling\u001b[0m\u001b[0;34m.\u001b[0m\u001b[0mNEAREST\u001b[0m\u001b[0;34m:\u001b[0m\u001b[0;34m\u001b[0m\u001b[0;34m\u001b[0m\u001b[0m\n",
            "\u001b[0;32m/usr/local/lib/python3.12/dist-packages/PIL/ImageFile.py\u001b[0m in \u001b[0;36mload\u001b[0;34m(self)\u001b[0m\n\u001b[1;32m    278\u001b[0m             \u001b[0;32mraise\u001b[0m \u001b[0mOSError\u001b[0m\u001b[0;34m(\u001b[0m\u001b[0mmsg\u001b[0m\u001b[0;34m)\u001b[0m\u001b[0;34m\u001b[0m\u001b[0;34m\u001b[0m\u001b[0m\n\u001b[1;32m    279\u001b[0m \u001b[0;34m\u001b[0m\u001b[0m\n\u001b[0;32m--> 280\u001b[0;31m         \u001b[0mpixel\u001b[0m \u001b[0;34m=\u001b[0m \u001b[0mImage\u001b[0m\u001b[0;34m.\u001b[0m\u001b[0mImage\u001b[0m\u001b[0;34m.\u001b[0m\u001b[0mload\u001b[0m\u001b[0;34m(\u001b[0m\u001b[0mself\u001b[0m\u001b[0;34m)\u001b[0m\u001b[0;34m\u001b[0m\u001b[0;34m\u001b[0m\u001b[0m\n\u001b[0m\u001b[1;32m    281\u001b[0m         \u001b[0;32mif\u001b[0m \u001b[0;32mnot\u001b[0m \u001b[0mself\u001b[0m\u001b[0;34m.\u001b[0m\u001b[0mtile\u001b[0m\u001b[0;34m:\u001b[0m\u001b[0;34m\u001b[0m\u001b[0;34m\u001b[0m\u001b[0m\n\u001b[1;32m    282\u001b[0m             \u001b[0;32mreturn\u001b[0m \u001b[0mpixel\u001b[0m\u001b[0;34m\u001b[0m\u001b[0;34m\u001b[0m\u001b[0m\n",
            "\u001b[0;32m/usr/local/lib/python3.12/dist-packages/PIL/Image.py\u001b[0m in \u001b[0;36mload\u001b[0;34m(self)\u001b[0m\n\u001b[1;32m    915\u001b[0m \u001b[0;34m\u001b[0m\u001b[0m\n\u001b[1;32m    916\u001b[0m         \u001b[0;32mif\u001b[0m \u001b[0mself\u001b[0m\u001b[0;34m.\u001b[0m\u001b[0m_im\u001b[0m \u001b[0;32mis\u001b[0m \u001b[0;32mnot\u001b[0m \u001b[0;32mNone\u001b[0m\u001b[0;34m:\u001b[0m\u001b[0;34m\u001b[0m\u001b[0;34m\u001b[0m\u001b[0m\n\u001b[0;32m--> 917\u001b[0;31m             \u001b[0;32mreturn\u001b[0m \u001b[0mself\u001b[0m\u001b[0;34m.\u001b[0m\u001b[0mim\u001b[0m\u001b[0;34m.\u001b[0m\u001b[0mpixel_access\u001b[0m\u001b[0;34m(\u001b[0m\u001b[0mself\u001b[0m\u001b[0;34m.\u001b[0m\u001b[0mreadonly\u001b[0m\u001b[0;34m)\u001b[0m\u001b[0;34m\u001b[0m\u001b[0;34m\u001b[0m\u001b[0m\n\u001b[0m\u001b[1;32m    918\u001b[0m         \u001b[0;32mreturn\u001b[0m \u001b[0;32mNone\u001b[0m\u001b[0;34m\u001b[0m\u001b[0;34m\u001b[0m\u001b[0m\n\u001b[1;32m    919\u001b[0m \u001b[0;34m\u001b[0m\u001b[0m\n",
            "\u001b[0;32m/usr/local/lib/python3.12/dist-packages/PIL/Image.py\u001b[0m in \u001b[0;36mim\u001b[0;34m(self)\u001b[0m\n\u001b[1;32m    554\u001b[0m     \u001b[0;32mdef\u001b[0m \u001b[0mim\u001b[0m\u001b[0;34m(\u001b[0m\u001b[0mself\u001b[0m\u001b[0;34m)\u001b[0m \u001b[0;34m->\u001b[0m \u001b[0mcore\u001b[0m\u001b[0;34m.\u001b[0m\u001b[0mImagingCore\u001b[0m\u001b[0;34m:\u001b[0m\u001b[0;34m\u001b[0m\u001b[0;34m\u001b[0m\u001b[0m\n\u001b[1;32m    555\u001b[0m         \u001b[0;32mif\u001b[0m \u001b[0misinstance\u001b[0m\u001b[0;34m(\u001b[0m\u001b[0mself\u001b[0m\u001b[0;34m.\u001b[0m\u001b[0m_im\u001b[0m\u001b[0;34m,\u001b[0m \u001b[0mDeferredError\u001b[0m\u001b[0;34m)\u001b[0m\u001b[0;34m:\u001b[0m\u001b[0;34m\u001b[0m\u001b[0;34m\u001b[0m\u001b[0m\n\u001b[0;32m--> 556\u001b[0;31m             \u001b[0;32mraise\u001b[0m \u001b[0mself\u001b[0m\u001b[0;34m.\u001b[0m\u001b[0m_im\u001b[0m\u001b[0;34m.\u001b[0m\u001b[0mex\u001b[0m\u001b[0;34m\u001b[0m\u001b[0;34m\u001b[0m\u001b[0m\n\u001b[0m\u001b[1;32m    557\u001b[0m         \u001b[0;32massert\u001b[0m \u001b[0mself\u001b[0m\u001b[0;34m.\u001b[0m\u001b[0m_im\u001b[0m \u001b[0;32mis\u001b[0m \u001b[0;32mnot\u001b[0m \u001b[0;32mNone\u001b[0m\u001b[0;34m\u001b[0m\u001b[0;34m\u001b[0m\u001b[0m\n\u001b[1;32m    558\u001b[0m         \u001b[0;32mreturn\u001b[0m \u001b[0mself\u001b[0m\u001b[0;34m.\u001b[0m\u001b[0m_im\u001b[0m\u001b[0;34m\u001b[0m\u001b[0;34m\u001b[0m\u001b[0m\n",
            "    \u001b[0;31m[... skipping hidden 1 frame]\u001b[0m\n",
            "\u001b[0;32m/tmp/ipython-input-1629013851.py\u001b[0m in \u001b[0;36m<cell line: 0>\u001b[0;34m()\u001b[0m\n\u001b[1;32m      8\u001b[0m     \u001b[0;31m#assuming \"image\"is a PIL image object\u001b[0m\u001b[0;34m\u001b[0m\u001b[0;34m\u001b[0m\u001b[0m\n\u001b[1;32m      9\u001b[0m     \u001b[0;31m#apply the defined transformation pipeline to the image\u001b[0m\u001b[0;34m\u001b[0m\u001b[0;34m\u001b[0m\u001b[0m\n\u001b[0;32m---> 10\u001b[0;31m \u001b[0mimg\u001b[0m\u001b[0;34m=\u001b[0m\u001b[0mtransform\u001b[0m\u001b[0;34m(\u001b[0m\u001b[0mimg\u001b[0m\u001b[0;34m)\u001b[0m\u001b[0;34m\u001b[0m\u001b[0;34m\u001b[0m\u001b[0m\n\u001b[0m\u001b[1;32m     11\u001b[0m \u001b[0mprint\u001b[0m\u001b[0;34m(\u001b[0m\u001b[0mimg\u001b[0m\u001b[0;34m.\u001b[0m\u001b[0mshape\u001b[0m\u001b[0;34m)\u001b[0m\u001b[0;34m\u001b[0m\u001b[0;34m\u001b[0m\u001b[0m\n",
            "\u001b[0;32m/usr/local/lib/python3.12/dist-packages/torchvision/transforms/transforms.py\u001b[0m in \u001b[0;36m__call__\u001b[0;34m(self, img)\u001b[0m\n\u001b[1;32m     93\u001b[0m     \u001b[0;32mdef\u001b[0m \u001b[0m__call__\u001b[0m\u001b[0;34m(\u001b[0m\u001b[0mself\u001b[0m\u001b[0;34m,\u001b[0m \u001b[0mimg\u001b[0m\u001b[0;34m)\u001b[0m\u001b[0;34m:\u001b[0m\u001b[0;34m\u001b[0m\u001b[0;34m\u001b[0m\u001b[0m\n\u001b[1;32m     94\u001b[0m         \u001b[0;32mfor\u001b[0m \u001b[0mt\u001b[0m \u001b[0;32min\u001b[0m \u001b[0mself\u001b[0m\u001b[0;34m.\u001b[0m\u001b[0mtransforms\u001b[0m\u001b[0;34m:\u001b[0m\u001b[0;34m\u001b[0m\u001b[0;34m\u001b[0m\u001b[0m\n\u001b[0;32m---> 95\u001b[0;31m             \u001b[0mimg\u001b[0m \u001b[0;34m=\u001b[0m \u001b[0mt\u001b[0m\u001b[0;34m(\u001b[0m\u001b[0mimg\u001b[0m\u001b[0;34m)\u001b[0m\u001b[0;34m\u001b[0m\u001b[0;34m\u001b[0m\u001b[0m\n\u001b[0m\u001b[1;32m     96\u001b[0m         \u001b[0;32mreturn\u001b[0m \u001b[0mimg\u001b[0m\u001b[0;34m\u001b[0m\u001b[0;34m\u001b[0m\u001b[0m\n\u001b[1;32m     97\u001b[0m \u001b[0;34m\u001b[0m\u001b[0m\n",
            "\u001b[0;32m/usr/local/lib/python3.12/dist-packages/torch/nn/modules/module.py\u001b[0m in \u001b[0;36m_wrapped_call_impl\u001b[0;34m(self, *args, **kwargs)\u001b[0m\n\u001b[1;32m   1771\u001b[0m             \u001b[0;32mreturn\u001b[0m \u001b[0mself\u001b[0m\u001b[0;34m.\u001b[0m\u001b[0m_compiled_call_impl\u001b[0m\u001b[0;34m(\u001b[0m\u001b[0;34m*\u001b[0m\u001b[0margs\u001b[0m\u001b[0;34m,\u001b[0m \u001b[0;34m**\u001b[0m\u001b[0mkwargs\u001b[0m\u001b[0;34m)\u001b[0m  \u001b[0;31m# type: ignore[misc]\u001b[0m\u001b[0;34m\u001b[0m\u001b[0;34m\u001b[0m\u001b[0m\n\u001b[1;32m   1772\u001b[0m         \u001b[0;32melse\u001b[0m\u001b[0;34m:\u001b[0m\u001b[0;34m\u001b[0m\u001b[0;34m\u001b[0m\u001b[0m\n\u001b[0;32m-> 1773\u001b[0;31m             \u001b[0;32mreturn\u001b[0m \u001b[0mself\u001b[0m\u001b[0;34m.\u001b[0m\u001b[0m_call_impl\u001b[0m\u001b[0;34m(\u001b[0m\u001b[0;34m*\u001b[0m\u001b[0margs\u001b[0m\u001b[0;34m,\u001b[0m \u001b[0;34m**\u001b[0m\u001b[0mkwargs\u001b[0m\u001b[0;34m)\u001b[0m\u001b[0;34m\u001b[0m\u001b[0;34m\u001b[0m\u001b[0m\n\u001b[0m\u001b[1;32m   1774\u001b[0m \u001b[0;34m\u001b[0m\u001b[0m\n\u001b[1;32m   1775\u001b[0m     \u001b[0;31m# torchrec tests the code consistency with the following code\u001b[0m\u001b[0;34m\u001b[0m\u001b[0;34m\u001b[0m\u001b[0m\n",
            "\u001b[0;32m/usr/local/lib/python3.12/dist-packages/torch/nn/modules/module.py\u001b[0m in \u001b[0;36m_call_impl\u001b[0;34m(self, *args, **kwargs)\u001b[0m\n\u001b[1;32m   1782\u001b[0m                 \u001b[0;32mor\u001b[0m \u001b[0m_global_backward_pre_hooks\u001b[0m \u001b[0;32mor\u001b[0m \u001b[0m_global_backward_hooks\u001b[0m\u001b[0;34m\u001b[0m\u001b[0;34m\u001b[0m\u001b[0m\n\u001b[1;32m   1783\u001b[0m                 or _global_forward_hooks or _global_forward_pre_hooks):\n\u001b[0;32m-> 1784\u001b[0;31m             \u001b[0;32mreturn\u001b[0m \u001b[0mforward_call\u001b[0m\u001b[0;34m(\u001b[0m\u001b[0;34m*\u001b[0m\u001b[0margs\u001b[0m\u001b[0;34m,\u001b[0m \u001b[0;34m**\u001b[0m\u001b[0mkwargs\u001b[0m\u001b[0;34m)\u001b[0m\u001b[0;34m\u001b[0m\u001b[0;34m\u001b[0m\u001b[0m\n\u001b[0m\u001b[1;32m   1785\u001b[0m \u001b[0;34m\u001b[0m\u001b[0m\n\u001b[1;32m   1786\u001b[0m         \u001b[0mresult\u001b[0m \u001b[0;34m=\u001b[0m \u001b[0;32mNone\u001b[0m\u001b[0;34m\u001b[0m\u001b[0;34m\u001b[0m\u001b[0m\n",
            "\u001b[0;32m/usr/local/lib/python3.12/dist-packages/torchvision/transforms/transforms.py\u001b[0m in \u001b[0;36mforward\u001b[0;34m(self, img)\u001b[0m\n\u001b[1;32m    352\u001b[0m             \u001b[0mPIL\u001b[0m \u001b[0mImage\u001b[0m \u001b[0;32mor\u001b[0m \u001b[0mTensor\u001b[0m\u001b[0;34m:\u001b[0m \u001b[0mRescaled\u001b[0m \u001b[0mimage\u001b[0m\u001b[0;34m.\u001b[0m\u001b[0;34m\u001b[0m\u001b[0;34m\u001b[0m\u001b[0m\n\u001b[1;32m    353\u001b[0m         \"\"\"\n\u001b[0;32m--> 354\u001b[0;31m         \u001b[0;32mreturn\u001b[0m \u001b[0mF\u001b[0m\u001b[0;34m.\u001b[0m\u001b[0mresize\u001b[0m\u001b[0;34m(\u001b[0m\u001b[0mimg\u001b[0m\u001b[0;34m,\u001b[0m \u001b[0mself\u001b[0m\u001b[0;34m.\u001b[0m\u001b[0msize\u001b[0m\u001b[0;34m,\u001b[0m \u001b[0mself\u001b[0m\u001b[0;34m.\u001b[0m\u001b[0minterpolation\u001b[0m\u001b[0;34m,\u001b[0m \u001b[0mself\u001b[0m\u001b[0;34m.\u001b[0m\u001b[0mmax_size\u001b[0m\u001b[0;34m,\u001b[0m \u001b[0mself\u001b[0m\u001b[0;34m.\u001b[0m\u001b[0mantialias\u001b[0m\u001b[0;34m)\u001b[0m\u001b[0;34m\u001b[0m\u001b[0;34m\u001b[0m\u001b[0m\n\u001b[0m\u001b[1;32m    355\u001b[0m \u001b[0;34m\u001b[0m\u001b[0m\n\u001b[1;32m    356\u001b[0m     \u001b[0;32mdef\u001b[0m \u001b[0m__repr__\u001b[0m\u001b[0;34m(\u001b[0m\u001b[0mself\u001b[0m\u001b[0;34m)\u001b[0m \u001b[0;34m->\u001b[0m \u001b[0mstr\u001b[0m\u001b[0;34m:\u001b[0m\u001b[0;34m\u001b[0m\u001b[0;34m\u001b[0m\u001b[0m\n",
            "\u001b[0;32m/usr/local/lib/python3.12/dist-packages/torchvision/transforms/functional.py\u001b[0m in \u001b[0;36mresize\u001b[0;34m(img, size, interpolation, max_size, antialias)\u001b[0m\n\u001b[1;32m    475\u001b[0m             \u001b[0mwarnings\u001b[0m\u001b[0;34m.\u001b[0m\u001b[0mwarn\u001b[0m\u001b[0;34m(\u001b[0m\u001b[0;34m\"Anti-alias option is always applied for PIL Image input. Argument antialias is ignored.\"\u001b[0m\u001b[0;34m)\u001b[0m\u001b[0;34m\u001b[0m\u001b[0;34m\u001b[0m\u001b[0m\n\u001b[1;32m    476\u001b[0m         \u001b[0mpil_interpolation\u001b[0m \u001b[0;34m=\u001b[0m \u001b[0mpil_modes_mapping\u001b[0m\u001b[0;34m[\u001b[0m\u001b[0minterpolation\u001b[0m\u001b[0;34m]\u001b[0m\u001b[0;34m\u001b[0m\u001b[0;34m\u001b[0m\u001b[0m\n\u001b[0;32m--> 477\u001b[0;31m         \u001b[0;32mreturn\u001b[0m \u001b[0mF_pil\u001b[0m\u001b[0;34m.\u001b[0m\u001b[0mresize\u001b[0m\u001b[0;34m(\u001b[0m\u001b[0mimg\u001b[0m\u001b[0;34m,\u001b[0m \u001b[0msize\u001b[0m\u001b[0;34m=\u001b[0m\u001b[0moutput_size\u001b[0m\u001b[0;34m,\u001b[0m \u001b[0minterpolation\u001b[0m\u001b[0;34m=\u001b[0m\u001b[0mpil_interpolation\u001b[0m\u001b[0;34m)\u001b[0m\u001b[0;34m\u001b[0m\u001b[0;34m\u001b[0m\u001b[0m\n\u001b[0m\u001b[1;32m    478\u001b[0m \u001b[0;34m\u001b[0m\u001b[0m\n\u001b[1;32m    479\u001b[0m     \u001b[0;32mreturn\u001b[0m \u001b[0mF_t\u001b[0m\u001b[0;34m.\u001b[0m\u001b[0mresize\u001b[0m\u001b[0;34m(\u001b[0m\u001b[0mimg\u001b[0m\u001b[0;34m,\u001b[0m \u001b[0msize\u001b[0m\u001b[0;34m=\u001b[0m\u001b[0moutput_size\u001b[0m\u001b[0;34m,\u001b[0m \u001b[0minterpolation\u001b[0m\u001b[0;34m=\u001b[0m\u001b[0minterpolation\u001b[0m\u001b[0;34m.\u001b[0m\u001b[0mvalue\u001b[0m\u001b[0;34m,\u001b[0m \u001b[0mantialias\u001b[0m\u001b[0;34m=\u001b[0m\u001b[0mantialias\u001b[0m\u001b[0;34m)\u001b[0m\u001b[0;34m\u001b[0m\u001b[0;34m\u001b[0m\u001b[0m\n",
            "\u001b[0;32m/usr/local/lib/python3.12/dist-packages/torchvision/transforms/_functional_pil.py\u001b[0m in \u001b[0;36mresize\u001b[0;34m(img, size, interpolation)\u001b[0m\n\u001b[1;32m    251\u001b[0m         \u001b[0;32mraise\u001b[0m \u001b[0mTypeError\u001b[0m\u001b[0;34m(\u001b[0m\u001b[0;34mf\"Got inappropriate size arg: {size}\"\u001b[0m\u001b[0;34m)\u001b[0m\u001b[0;34m\u001b[0m\u001b[0;34m\u001b[0m\u001b[0m\n\u001b[1;32m    252\u001b[0m \u001b[0;34m\u001b[0m\u001b[0m\n\u001b[0;32m--> 253\u001b[0;31m     \u001b[0;32mreturn\u001b[0m \u001b[0mimg\u001b[0m\u001b[0;34m.\u001b[0m\u001b[0mresize\u001b[0m\u001b[0;34m(\u001b[0m\u001b[0mtuple\u001b[0m\u001b[0;34m(\u001b[0m\u001b[0msize\u001b[0m\u001b[0;34m[\u001b[0m\u001b[0;34m:\u001b[0m\u001b[0;34m:\u001b[0m\u001b[0;34m-\u001b[0m\u001b[0;36m1\u001b[0m\u001b[0;34m]\u001b[0m\u001b[0;34m)\u001b[0m\u001b[0;34m,\u001b[0m \u001b[0minterpolation\u001b[0m\u001b[0;34m)\u001b[0m\u001b[0;34m\u001b[0m\u001b[0;34m\u001b[0m\u001b[0m\n\u001b[0m\u001b[1;32m    254\u001b[0m \u001b[0;34m\u001b[0m\u001b[0m\n\u001b[1;32m    255\u001b[0m \u001b[0;34m\u001b[0m\u001b[0m\n",
            "\u001b[0;32m/usr/local/lib/python3.12/dist-packages/PIL/Image.py\u001b[0m in \u001b[0;36mresize\u001b[0;34m(self, size, resample, box, reducing_gap)\u001b[0m\n\u001b[1;32m   2299\u001b[0m             \u001b[0;32mreturn\u001b[0m \u001b[0mim\u001b[0m\u001b[0;34m.\u001b[0m\u001b[0mconvert\u001b[0m\u001b[0;34m(\u001b[0m\u001b[0mself\u001b[0m\u001b[0;34m.\u001b[0m\u001b[0mmode\u001b[0m\u001b[0;34m)\u001b[0m\u001b[0;34m\u001b[0m\u001b[0;34m\u001b[0m\u001b[0m\n\u001b[1;32m   2300\u001b[0m \u001b[0;34m\u001b[0m\u001b[0m\n\u001b[0;32m-> 2301\u001b[0;31m         \u001b[0mself\u001b[0m\u001b[0;34m.\u001b[0m\u001b[0mload\u001b[0m\u001b[0;34m(\u001b[0m\u001b[0;34m)\u001b[0m\u001b[0;34m\u001b[0m\u001b[0;34m\u001b[0m\u001b[0m\n\u001b[0m\u001b[1;32m   2302\u001b[0m \u001b[0;34m\u001b[0m\u001b[0m\n\u001b[1;32m   2303\u001b[0m         \u001b[0;32mif\u001b[0m \u001b[0mreducing_gap\u001b[0m \u001b[0;32mis\u001b[0m \u001b[0;32mnot\u001b[0m \u001b[0;32mNone\u001b[0m \u001b[0;32mand\u001b[0m \u001b[0mresample\u001b[0m \u001b[0;34m!=\u001b[0m \u001b[0mResampling\u001b[0m\u001b[0;34m.\u001b[0m\u001b[0mNEAREST\u001b[0m\u001b[0;34m:\u001b[0m\u001b[0;34m\u001b[0m\u001b[0;34m\u001b[0m\u001b[0m\n",
            "\u001b[0;32m/usr/local/lib/python3.12/dist-packages/PIL/ImageFile.py\u001b[0m in \u001b[0;36mload\u001b[0;34m(self)\u001b[0m\n\u001b[1;32m    278\u001b[0m             \u001b[0;32mraise\u001b[0m \u001b[0mOSError\u001b[0m\u001b[0;34m(\u001b[0m\u001b[0mmsg\u001b[0m\u001b[0;34m)\u001b[0m\u001b[0;34m\u001b[0m\u001b[0;34m\u001b[0m\u001b[0m\n\u001b[1;32m    279\u001b[0m \u001b[0;34m\u001b[0m\u001b[0m\n\u001b[0;32m--> 280\u001b[0;31m         \u001b[0mpixel\u001b[0m \u001b[0;34m=\u001b[0m \u001b[0mImage\u001b[0m\u001b[0;34m.\u001b[0m\u001b[0mImage\u001b[0m\u001b[0;34m.\u001b[0m\u001b[0mload\u001b[0m\u001b[0;34m(\u001b[0m\u001b[0mself\u001b[0m\u001b[0;34m)\u001b[0m\u001b[0;34m\u001b[0m\u001b[0;34m\u001b[0m\u001b[0m\n\u001b[0m\u001b[1;32m    281\u001b[0m         \u001b[0;32mif\u001b[0m \u001b[0;32mnot\u001b[0m \u001b[0mself\u001b[0m\u001b[0;34m.\u001b[0m\u001b[0mtile\u001b[0m\u001b[0;34m:\u001b[0m\u001b[0;34m\u001b[0m\u001b[0;34m\u001b[0m\u001b[0m\n\u001b[1;32m    282\u001b[0m             \u001b[0;32mreturn\u001b[0m \u001b[0mpixel\u001b[0m\u001b[0;34m\u001b[0m\u001b[0;34m\u001b[0m\u001b[0m\n",
            "\u001b[0;32m/usr/local/lib/python3.12/dist-packages/PIL/Image.py\u001b[0m in \u001b[0;36mload\u001b[0;34m(self)\u001b[0m\n\u001b[1;32m    915\u001b[0m \u001b[0;34m\u001b[0m\u001b[0m\n\u001b[1;32m    916\u001b[0m         \u001b[0;32mif\u001b[0m \u001b[0mself\u001b[0m\u001b[0;34m.\u001b[0m\u001b[0m_im\u001b[0m \u001b[0;32mis\u001b[0m \u001b[0;32mnot\u001b[0m \u001b[0;32mNone\u001b[0m\u001b[0;34m:\u001b[0m\u001b[0;34m\u001b[0m\u001b[0;34m\u001b[0m\u001b[0m\n\u001b[0;32m--> 917\u001b[0;31m             \u001b[0;32mreturn\u001b[0m \u001b[0mself\u001b[0m\u001b[0;34m.\u001b[0m\u001b[0mim\u001b[0m\u001b[0;34m.\u001b[0m\u001b[0mpixel_access\u001b[0m\u001b[0;34m(\u001b[0m\u001b[0mself\u001b[0m\u001b[0;34m.\u001b[0m\u001b[0mreadonly\u001b[0m\u001b[0;34m)\u001b[0m\u001b[0;34m\u001b[0m\u001b[0;34m\u001b[0m\u001b[0m\n\u001b[0m\u001b[1;32m    918\u001b[0m         \u001b[0;32mreturn\u001b[0m \u001b[0;32mNone\u001b[0m\u001b[0;34m\u001b[0m\u001b[0;34m\u001b[0m\u001b[0m\n\u001b[1;32m    919\u001b[0m \u001b[0;34m\u001b[0m\u001b[0m\n",
            "\u001b[0;32m/usr/local/lib/python3.12/dist-packages/PIL/Image.py\u001b[0m in \u001b[0;36mim\u001b[0;34m(self)\u001b[0m\n\u001b[1;32m    554\u001b[0m     \u001b[0;32mdef\u001b[0m \u001b[0mim\u001b[0m\u001b[0;34m(\u001b[0m\u001b[0mself\u001b[0m\u001b[0;34m)\u001b[0m \u001b[0;34m->\u001b[0m \u001b[0mcore\u001b[0m\u001b[0;34m.\u001b[0m\u001b[0mImagingCore\u001b[0m\u001b[0;34m:\u001b[0m\u001b[0;34m\u001b[0m\u001b[0;34m\u001b[0m\u001b[0m\n\u001b[1;32m    555\u001b[0m         \u001b[0;32mif\u001b[0m \u001b[0misinstance\u001b[0m\u001b[0;34m(\u001b[0m\u001b[0mself\u001b[0m\u001b[0;34m.\u001b[0m\u001b[0m_im\u001b[0m\u001b[0;34m,\u001b[0m \u001b[0mDeferredError\u001b[0m\u001b[0;34m)\u001b[0m\u001b[0;34m:\u001b[0m\u001b[0;34m\u001b[0m\u001b[0;34m\u001b[0m\u001b[0m\n\u001b[0;32m--> 556\u001b[0;31m             \u001b[0;32mraise\u001b[0m \u001b[0mself\u001b[0m\u001b[0;34m.\u001b[0m\u001b[0m_im\u001b[0m\u001b[0;34m.\u001b[0m\u001b[0mex\u001b[0m\u001b[0;34m\u001b[0m\u001b[0;34m\u001b[0m\u001b[0m\n\u001b[0m\u001b[1;32m    557\u001b[0m         \u001b[0;32massert\u001b[0m \u001b[0mself\u001b[0m\u001b[0;34m.\u001b[0m\u001b[0m_im\u001b[0m \u001b[0;32mis\u001b[0m \u001b[0;32mnot\u001b[0m \u001b[0;32mNone\u001b[0m\u001b[0;34m\u001b[0m\u001b[0;34m\u001b[0m\u001b[0m\n\u001b[1;32m    558\u001b[0m         \u001b[0;32mreturn\u001b[0m \u001b[0mself\u001b[0m\u001b[0;34m.\u001b[0m\u001b[0m_im\u001b[0m\u001b[0;34m\u001b[0m\u001b[0;34m\u001b[0m\u001b[0m\n",
            "\u001b[0;31mValueError\u001b[0m: Operation on closed image"
          ]
        }
      ]
    },
    {
      "cell_type": "code",
      "source": [
        "from torchvision.transforms import transforms"
      ],
      "metadata": {
        "id": "_8eioh8AUPCT"
      },
      "execution_count": 31,
      "outputs": []
    },
    {
      "cell_type": "markdown",
      "metadata": {
        "id": "b22f692c"
      },
      "source": [
        "## Summary:\n",
        "\n",
        "### Data Analysis Key Findings\n",
        "\n",
        "*   The dataset is organized into subdirectories representing different image categories: \"defect free\", \"Vertical\", \"stain\", \"lines\", \"horizontal\", and \"hole\".\n",
        "*   The image counts for each category are: \"defect free\": 1666 images, \"Vertical\": 101 images, \"stain\": 398 images, \"lines\": 157 images, \"horizontal\": 136 images, and \"hole\": 281 images.\n",
        "*   A pie chart was generated to visualize the distribution of images across these categories, showing the proportion of images in each defect type and the proportion of defect-free images.\n",
        "\n",
        "\n"
      ]
    }
  ],
  "metadata": {
    "colab": {
      "provenance": [],
      "authorship_tag": "ABX9TyMiuV8MvYVYmCKBZINXCtFb",
      "include_colab_link": true
    },
    "kernelspec": {
      "display_name": "Python 3",
      "name": "python3"
    },
    "language_info": {
      "name": "python"
    }
  },
  "nbformat": 4,
  "nbformat_minor": 0
}